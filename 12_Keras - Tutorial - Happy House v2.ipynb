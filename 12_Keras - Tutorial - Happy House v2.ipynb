{
 "cells": [
  {
   "cell_type": "markdown",
   "metadata": {},
   "source": [
    "# Keras tutorial - the Happy House\n",
    "\n",
    "Welcome to the first assignment of week 2. In this assignment, you will:\n",
    "1. Learn to use Keras, a high-level neural networks API (programming framework), written in Python and capable of running on top of several lower-level frameworks including TensorFlow and CNTK. \n",
    "2. See how you can in a couple of hours build a deep learning algorithm.\n",
    "\n",
    "Why are we using Keras? Keras was developed to enable deep learning engineers to build and experiment with different models very quickly. Just as TensorFlow is a higher-level framework than Python, Keras is an even higher-level framework and provides additional abstractions. Being able to go from idea to result with the least possible delay is key to finding good models. However, Keras is more restrictive than the lower-level frameworks, so there are some very complex models that you can implement in TensorFlow but not (without more difficulty) in Keras. That being said, Keras will work fine for many common models. \n",
    "\n",
    "In this exercise, you'll work on the \"Happy House\" problem, which we'll explain below. Let's load the required packages and solve the problem of the Happy House!"
   ]
  },
  {
   "cell_type": "code",
   "execution_count": 1,
   "metadata": {},
   "outputs": [
    {
     "name": "stderr",
     "output_type": "stream",
     "text": [
      "2022-09-23 17:15:59.525497: E tensorflow/stream_executor/cuda/cuda_blas.cc:2981] Unable to register cuBLAS factory: Attempting to register factory for plugin cuBLAS when one has already been registered\n",
      "2022-09-23 17:16:00.252104: W tensorflow/stream_executor/platform/default/dso_loader.cc:64] Could not load dynamic library 'libnvinfer.so.7'; dlerror: libnvinfer.so.7: cannot open shared object file: No such file or directory; LD_LIBRARY_PATH: /usr/local/cuda-11.7/lib64:\n",
      "2022-09-23 17:16:00.252203: W tensorflow/stream_executor/platform/default/dso_loader.cc:64] Could not load dynamic library 'libnvinfer_plugin.so.7'; dlerror: libnvinfer_plugin.so.7: cannot open shared object file: No such file or directory; LD_LIBRARY_PATH: /usr/local/cuda-11.7/lib64:\n",
      "2022-09-23 17:16:00.252214: W tensorflow/compiler/tf2tensorrt/utils/py_utils.cc:38] TF-TRT Warning: Cannot dlopen some TensorRT libraries. If you would like to use Nvidia GPU with TensorRT, please make sure the missing libraries mentioned above are installed properly.\n"
     ]
    }
   ],
   "source": [
    "import numpy as np\n",
    "from keras import layers\n",
    "from keras.layers import Input, Dense, Activation, ZeroPadding2D, BatchNormalization, Flatten, Conv2D\n",
    "from keras.layers import AveragePooling2D, MaxPooling2D, Dropout, GlobalMaxPooling2D, GlobalAveragePooling2D\n",
    "from keras.models import Model\n",
    "from keras.preprocessing import image\n",
    "from keras.utils import layer_utils\n",
    "from keras.utils.data_utils import get_file\n",
    "from keras.applications.imagenet_utils import preprocess_input\n",
    "import pydot\n",
    "from IPython.display import SVG\n",
    "from keras.utils.vis_utils import model_to_dot\n",
    "from keras.utils import plot_model\n",
    "from kt_utils import *\n",
    "\n",
    "import keras.backend as K\n",
    "K.set_image_data_format('channels_last')\n",
    "import matplotlib.pyplot as plt\n",
    "from matplotlib.pyplot import imshow\n",
    "\n",
    "%matplotlib inline"
   ]
  },
  {
   "cell_type": "markdown",
   "metadata": {},
   "source": [
    "**Note**: As you can see, we've imported a lot of functions from Keras. You can use them easily just by calling them directly in the notebook. Ex: `X = Input(...)` or `X = ZeroPadding2D(...)`."
   ]
  },
  {
   "cell_type": "markdown",
   "metadata": {},
   "source": [
    "## 1 - The Happy House \n",
    "\n",
    "For your next vacation, you decided to spend a week with five of your friends from school. It is a very convenient house with many things to do nearby. But the most important benefit is that everybody has commited to be happy when they are in the house. So anyone wanting to enter the house must prove their current state of happiness.\n",
    "\n",
    "<img src=\"images/happy-house.jpg\" style=\"width:350px;height:270px;\">\n",
    "<caption><center> <u> <font color='purple'> **Figure 1** </u><font color='purple'>  : **the Happy House**</center></caption>\n",
    "\n",
    "\n",
    "As a deep learning expert, to make sure the \"Happy\" rule is strictly applied, you are going to build an algorithm which that uses pictures from the front door camera to check if the person is happy or not. The door should open only if the person is happy. \n",
    "\n",
    "You have gathered pictures of your friends and yourself, taken by the front-door camera. The dataset is labbeled. \n",
    "\n",
    "<img src=\"images/house-members.png\" style=\"width:550px;height:250px;\">\n",
    "\n",
    "Run the following code to normalize the dataset and learn about its shapes."
   ]
  },
  {
   "cell_type": "code",
   "execution_count": 2,
   "metadata": {},
   "outputs": [
    {
     "name": "stdout",
     "output_type": "stream",
     "text": [
      "number of training examples = 600\n",
      "number of test examples = 150\n",
      "X_train shape: (600, 64, 64, 3)\n",
      "Y_train shape: (600, 1)\n",
      "X_test shape: (150, 64, 64, 3)\n",
      "Y_test shape: (150, 1)\n"
     ]
    }
   ],
   "source": [
    "X_train_orig, Y_train_orig, X_test_orig, Y_test_orig, classes = load_dataset()\n",
    "\n",
    "# Normalize image vectors\n",
    "X_train = X_train_orig/255.\n",
    "X_test = X_test_orig/255.\n",
    "\n",
    "# Reshape\n",
    "Y_train = Y_train_orig.T\n",
    "Y_test = Y_test_orig.T\n",
    "\n",
    "print (\"number of training examples = \" + str(X_train.shape[0]))\n",
    "print (\"number of test examples = \" + str(X_test.shape[0]))\n",
    "print (\"X_train shape: \" + str(X_train.shape))\n",
    "print (\"Y_train shape: \" + str(Y_train.shape))\n",
    "print (\"X_test shape: \" + str(X_test.shape))\n",
    "print (\"Y_test shape: \" + str(Y_test.shape))"
   ]
  },
  {
   "cell_type": "markdown",
   "metadata": {},
   "source": [
    "**Details of the \"Happy\" dataset**:\n",
    "- Images are of shape (64,64,3)\n",
    "- Training: 600 pictures\n",
    "- Test: 150 pictures\n",
    "\n",
    "It is now time to solve the \"Happy\" Challenge."
   ]
  },
  {
   "cell_type": "markdown",
   "metadata": {},
   "source": [
    "## 2 - Building a model in Keras\n",
    "\n",
    "Keras is very good for rapid prototyping. In just a short time you will be able to build a model that achieves outstanding results.\n",
    "\n",
    "Here is an example of a model in Keras:\n",
    "\n",
    "```python\n",
    "def model(input_shape):\n",
    "    # Define the input placeholder as a tensor with shape input_shape. Think of this as your input image!\n",
    "    X_input = Input(input_shape)\n",
    "\n",
    "    # Zero-Padding: pads the border of X_input with zeroes\n",
    "    X = ZeroPadding2D((3, 3))(X_input)\n",
    "\n",
    "    # CONV -> BN -> RELU Block applied to X\n",
    "    X = Conv2D(32, (7, 7), strides = (1, 1), name = 'conv0')(X)\n",
    "    X = BatchNormalization(axis = 3, name = 'bn0')(X)\n",
    "    X = Activation('relu')(X)\n",
    "\n",
    "    # MAXPOOL\n",
    "    X = MaxPooling2D((2, 2), name='max_pool')(X)\n",
    "\n",
    "    # FLATTEN X (means convert it to a vector) + FULLYCONNECTED\n",
    "    X = Flatten()(X)\n",
    "    X = Dense(1, activation='sigmoid', name='fc')(X)\n",
    "\n",
    "    # Create model. This creates your Keras model instance, you'll use this instance to train/test the model.\n",
    "    model = Model(inputs = X_input, outputs = X, name='HappyModel')\n",
    "    \n",
    "    return model\n",
    "```\n",
    "\n",
    "Note that Keras uses a different convention with variable names than we've previously used with numpy and TensorFlow. In particular, rather than creating and assigning a new variable on each step of forward propagation such as `X`, `Z1`, `A1`, `Z2`, `A2`, etc. for the computations for the different layers, in Keras code each line above just reassigns `X` to a new value using `X = ...`. In other words, during each step of forward propagation, we are just writing the latest value in the commputation into the same variable `X`. The only exception was `X_input`, which we kept separate and did not overwrite, since we needed it at the end to create the Keras model instance (`model = Model(inputs = X_input, ...)` above). \n",
    "\n",
    "**Exercise**: Implement a `HappyModel()`. This assignment is more open-ended than most. We suggest that you start by implementing a model using the architecture we suggest, and run through the rest of this assignment using that as your initial model. But after that, come back and take initiative to try out other model architectures. For example, you might take inspiration from the model above, but then vary the network architecture and hyperparameters however you wish. You can also use other functions such as `AveragePooling2D()`, `GlobalMaxPooling2D()`, `Dropout()`. \n",
    "\n",
    "**Note**: You have to be careful with your data's shapes. Use what you've learned in the videos to make sure your convolutional, pooling and fully-connected layers are adapted to the volumes you're applying it to."
   ]
  },
  {
   "cell_type": "code",
   "execution_count": 3,
   "metadata": {},
   "outputs": [],
   "source": [
    "# GRADED FUNCTION: HappyModel\n",
    "\n",
    "def HappyModel(input_shape):\n",
    "    \"\"\"\n",
    "    Implementation of the HappyModel.\n",
    "    \n",
    "    Arguments:\n",
    "    input_shape -- shape of the images of the dataset\n",
    "\n",
    "    Returns:\n",
    "    model -- a Model() instance in Keras\n",
    "    \"\"\"\n",
    "    \n",
    "    ### START CODE HERE ###\n",
    "    # Feel free to use the suggested outline in the text above to get started, and run through the whole\n",
    "    # exercise (including the later portions of this notebook) once. The come back also try out other\n",
    "    # network architectures as well. \n",
    "        # Define the input placeholder as a tensor with shape input_shape. Think of this as your input image!\n",
    "    X_input = Input(input_shape)\n",
    "\n",
    "    # Zero-Padding: pads the border of X_input with zeroes\n",
    "    X = ZeroPadding2D((3, 3))(X_input)\n",
    "\n",
    "    # CONV -> BN -> RELU Block applied to X\n",
    "    X = Conv2D(32, (7, 7), strides=(1, 1), name='conv0')(X)\n",
    "    X = BatchNormalization(axis=3, name='bn0')(X)\n",
    "    X = Activation('relu')(X)\n",
    "\n",
    "    # MAXPOOL\n",
    "    X = MaxPooling2D((2, 2), name='max_pool')(X)\n",
    "\n",
    "    # FLATTEN X (means convert it to a vector) + FULLYCONNECTED\n",
    "    X = Flatten()(X)\n",
    "    X = Dense(1, activation='sigmoid', name='fc')(X)\n",
    "\n",
    "    # Create model. This creates your Keras model instance, you'll use this instance to train/test the model.\n",
    "    model = Model(inputs=X_input, outputs=X, name='HappyModel')\n",
    "\n",
    "    return model\n",
    "    ### END CODE HERE ###\n",
    "    \n",
    "    return model"
   ]
  },
  {
   "cell_type": "markdown",
   "metadata": {},
   "source": [
    "You have now built a function to describe your model. To train and test this model, there are four steps in Keras:\n",
    "1. Create the model by calling the function above\n",
    "2. Compile the model by calling `model.compile(optimizer = \"...\", loss = \"...\", metrics = [\"accuracy\"])`\n",
    "3. Train the model on train data by calling `model.fit(x = ..., y = ..., epochs = ..., batch_size = ...)`\n",
    "4. Test the model on test data by calling `model.evaluate(x = ..., y = ...)`\n",
    "\n",
    "If you want to know more about `model.compile()`, `model.fit()`, `model.evaluate()` and their arguments, refer to the official [Keras documentation](https://keras.io/models/model/).\n",
    "\n",
    "**Exercise**: Implement step 1, i.e. create the model."
   ]
  },
  {
   "cell_type": "code",
   "execution_count": 4,
   "metadata": {},
   "outputs": [
    {
     "name": "stderr",
     "output_type": "stream",
     "text": [
      "2022-09-23 17:16:02.025804: I tensorflow/stream_executor/cuda/cuda_gpu_executor.cc:980] successful NUMA node read from SysFS had negative value (-1), but there must be at least one NUMA node, so returning NUMA node zero\n",
      "2022-09-23 17:16:02.066648: I tensorflow/stream_executor/cuda/cuda_gpu_executor.cc:980] successful NUMA node read from SysFS had negative value (-1), but there must be at least one NUMA node, so returning NUMA node zero\n",
      "2022-09-23 17:16:02.066862: I tensorflow/stream_executor/cuda/cuda_gpu_executor.cc:980] successful NUMA node read from SysFS had negative value (-1), but there must be at least one NUMA node, so returning NUMA node zero\n",
      "2022-09-23 17:16:02.067956: I tensorflow/stream_executor/cuda/cuda_gpu_executor.cc:980] successful NUMA node read from SysFS had negative value (-1), but there must be at least one NUMA node, so returning NUMA node zero\n",
      "2022-09-23 17:16:02.068155: I tensorflow/stream_executor/cuda/cuda_gpu_executor.cc:980] successful NUMA node read from SysFS had negative value (-1), but there must be at least one NUMA node, so returning NUMA node zero\n",
      "2022-09-23 17:16:02.068306: I tensorflow/stream_executor/cuda/cuda_gpu_executor.cc:980] successful NUMA node read from SysFS had negative value (-1), but there must be at least one NUMA node, so returning NUMA node zero\n",
      "2022-09-23 17:16:02.624206: I tensorflow/stream_executor/cuda/cuda_gpu_executor.cc:980] successful NUMA node read from SysFS had negative value (-1), but there must be at least one NUMA node, so returning NUMA node zero\n",
      "2022-09-23 17:16:02.624410: I tensorflow/stream_executor/cuda/cuda_gpu_executor.cc:980] successful NUMA node read from SysFS had negative value (-1), but there must be at least one NUMA node, so returning NUMA node zero\n",
      "2022-09-23 17:16:02.624571: I tensorflow/stream_executor/cuda/cuda_gpu_executor.cc:980] successful NUMA node read from SysFS had negative value (-1), but there must be at least one NUMA node, so returning NUMA node zero\n",
      "2022-09-23 17:16:02.624715: I tensorflow/core/common_runtime/gpu/gpu_device.cc:1616] Created device /job:localhost/replica:0/task:0/device:GPU:0 with 3004 MB memory:  -> device: 0, name: NVIDIA GeForce GTX 1050 Ti, pci bus id: 0000:01:00.0, compute capability: 6.1\n"
     ]
    }
   ],
   "source": [
    "### START CODE HERE ### (1 line)\n",
    "happyModel = HappyModel(X_train.shape[1:])\n",
    "### END CODE HERE ###"
   ]
  },
  {
   "cell_type": "markdown",
   "metadata": {},
   "source": [
    "**Exercise**: Implement step 2, i.e. compile the model to configure the learning process. Choose the 3 arguments of `compile()` wisely. Hint: the Happy Challenge is a binary classification problem."
   ]
  },
  {
   "cell_type": "code",
   "execution_count": 5,
   "metadata": {},
   "outputs": [],
   "source": [
    "### START CODE HERE ### (1 line)\n",
    "happyModel.compile('adam', 'binary_crossentropy', metrics=['accuracy'])\n",
    "### END CODE HERE ###"
   ]
  },
  {
   "cell_type": "markdown",
   "metadata": {},
   "source": [
    "**Exercise**: Implement step 3, i.e. train the model. Choose the number of epochs and the batch size."
   ]
  },
  {
   "cell_type": "code",
   "execution_count": 6,
   "metadata": {},
   "outputs": [
    {
     "name": "stdout",
     "output_type": "stream",
     "text": [
      "Epoch 1/40\n"
     ]
    },
    {
     "name": "stderr",
     "output_type": "stream",
     "text": [
      "2022-09-23 17:16:03.997862: I tensorflow/stream_executor/cuda/cuda_dnn.cc:384] Loaded cuDNN version 8500\n"
     ]
    },
    {
     "name": "stdout",
     "output_type": "stream",
     "text": [
      "12/12 [==============================] - 2s 18ms/step - loss: 1.1133 - accuracy: 0.6483\n",
      "Epoch 2/40\n",
      "12/12 [==============================] - 0s 17ms/step - loss: 0.2659 - accuracy: 0.8867\n",
      "Epoch 3/40\n",
      "12/12 [==============================] - 0s 16ms/step - loss: 0.1730 - accuracy: 0.9483\n",
      "Epoch 4/40\n",
      "12/12 [==============================] - 0s 16ms/step - loss: 0.1487 - accuracy: 0.9367\n",
      "Epoch 5/40\n",
      "12/12 [==============================] - 0s 16ms/step - loss: 0.0956 - accuracy: 0.9717\n",
      "Epoch 6/40\n",
      "12/12 [==============================] - 0s 14ms/step - loss: 0.0685 - accuracy: 0.9817\n",
      "Epoch 7/40\n",
      "12/12 [==============================] - 0s 14ms/step - loss: 0.0627 - accuracy: 0.9833\n",
      "Epoch 8/40\n",
      "12/12 [==============================] - 0s 15ms/step - loss: 0.0564 - accuracy: 0.9883\n",
      "Epoch 9/40\n",
      "12/12 [==============================] - 0s 15ms/step - loss: 0.0515 - accuracy: 0.9867\n",
      "Epoch 10/40\n",
      "12/12 [==============================] - 0s 15ms/step - loss: 0.0493 - accuracy: 0.9817\n",
      "Epoch 11/40\n",
      "12/12 [==============================] - 0s 16ms/step - loss: 0.0377 - accuracy: 0.9933\n",
      "Epoch 12/40\n",
      "12/12 [==============================] - 0s 15ms/step - loss: 0.0370 - accuracy: 0.9917\n",
      "Epoch 13/40\n",
      "12/12 [==============================] - 0s 16ms/step - loss: 0.0801 - accuracy: 0.9667\n",
      "Epoch 14/40\n",
      "12/12 [==============================] - 0s 15ms/step - loss: 0.0603 - accuracy: 0.9783\n",
      "Epoch 15/40\n",
      "12/12 [==============================] - 0s 15ms/step - loss: 0.0395 - accuracy: 0.9900\n",
      "Epoch 16/40\n",
      "12/12 [==============================] - 0s 15ms/step - loss: 0.0299 - accuracy: 0.9950\n",
      "Epoch 17/40\n",
      "12/12 [==============================] - 0s 16ms/step - loss: 0.0271 - accuracy: 0.9917\n",
      "Epoch 18/40\n",
      "12/12 [==============================] - 0s 16ms/step - loss: 0.0284 - accuracy: 0.9917\n",
      "Epoch 19/40\n",
      "12/12 [==============================] - 0s 15ms/step - loss: 0.0614 - accuracy: 0.9817\n",
      "Epoch 20/40\n",
      "12/12 [==============================] - 0s 15ms/step - loss: 0.0303 - accuracy: 0.9950\n",
      "Epoch 21/40\n",
      "12/12 [==============================] - 0s 15ms/step - loss: 0.0212 - accuracy: 0.9917\n",
      "Epoch 22/40\n",
      "12/12 [==============================] - 0s 16ms/step - loss: 0.0175 - accuracy: 0.9983\n",
      "Epoch 23/40\n",
      "12/12 [==============================] - 0s 15ms/step - loss: 0.0200 - accuracy: 0.9950\n",
      "Epoch 24/40\n",
      "12/12 [==============================] - 0s 15ms/step - loss: 0.0204 - accuracy: 0.9933\n",
      "Epoch 25/40\n",
      "12/12 [==============================] - 0s 15ms/step - loss: 0.0131 - accuracy: 0.9967\n",
      "Epoch 26/40\n",
      "12/12 [==============================] - 0s 15ms/step - loss: 0.0131 - accuracy: 0.9967\n",
      "Epoch 27/40\n",
      "12/12 [==============================] - 0s 15ms/step - loss: 0.0195 - accuracy: 0.9933\n",
      "Epoch 28/40\n",
      "12/12 [==============================] - 0s 15ms/step - loss: 0.0175 - accuracy: 0.9950\n",
      "Epoch 29/40\n",
      "12/12 [==============================] - 0s 15ms/step - loss: 0.0440 - accuracy: 0.9767\n",
      "Epoch 30/40\n",
      "12/12 [==============================] - 0s 15ms/step - loss: 0.0397 - accuracy: 0.9883\n",
      "Epoch 31/40\n",
      "12/12 [==============================] - 0s 15ms/step - loss: 0.0183 - accuracy: 0.9933\n",
      "Epoch 32/40\n",
      "12/12 [==============================] - 0s 15ms/step - loss: 0.0087 - accuracy: 0.9983\n",
      "Epoch 33/40\n",
      "12/12 [==============================] - 0s 15ms/step - loss: 0.0132 - accuracy: 0.9950\n",
      "Epoch 34/40\n",
      "12/12 [==============================] - 0s 15ms/step - loss: 0.0078 - accuracy: 0.9983\n",
      "Epoch 35/40\n",
      "12/12 [==============================] - 0s 15ms/step - loss: 0.0136 - accuracy: 0.9933\n",
      "Epoch 36/40\n",
      "12/12 [==============================] - 0s 15ms/step - loss: 0.0144 - accuracy: 0.9967\n",
      "Epoch 37/40\n",
      "12/12 [==============================] - 0s 15ms/step - loss: 0.0113 - accuracy: 0.9950\n",
      "Epoch 38/40\n",
      "12/12 [==============================] - 0s 16ms/step - loss: 0.0149 - accuracy: 0.9950\n",
      "Epoch 39/40\n",
      "12/12 [==============================] - 0s 15ms/step - loss: 0.0149 - accuracy: 0.9950\n",
      "Epoch 40/40\n",
      "12/12 [==============================] - 0s 15ms/step - loss: 0.0068 - accuracy: 1.0000\n"
     ]
    },
    {
     "data": {
      "text/plain": [
       "<keras.callbacks.History at 0x7f6918c95be0>"
      ]
     },
     "execution_count": 6,
     "metadata": {},
     "output_type": "execute_result"
    }
   ],
   "source": [
    "### START CODE HERE ### (1 line)\n",
    "happyModel.fit(X_train, Y_train, epochs=40, batch_size=50)\n",
    "### END CODE HERE ###"
   ]
  },
  {
   "cell_type": "markdown",
   "metadata": {},
   "source": [
    "Note that if you run `fit()` again, the `model` will continue to train with the parameters it has already learnt instead of reinitializing them.\n",
    "\n",
    "**Exercise**: Implement step 4, i.e. test/evaluate the model."
   ]
  },
  {
   "cell_type": "code",
   "execution_count": 7,
   "metadata": {
    "scrolled": true
   },
   "outputs": [
    {
     "name": "stdout",
     "output_type": "stream",
     "text": [
      "5/5 [==============================] - 0s 12ms/step - loss: 0.1102 - accuracy: 0.9467\n",
      "\n",
      "Loss = 0.11016188561916351\n",
      "Test Accuracy = 0.9466666579246521\n"
     ]
    }
   ],
   "source": [
    "### START CODE HERE ### (1 line)\n",
    "preds = happyModel.evaluate(X_test, Y_test, batch_size=32, verbose=1, sample_weight=None)\n",
    "### END CODE HERE ###\n",
    "print()\n",
    "print (\"Loss = \" + str(preds[0]))\n",
    "print (\"Test Accuracy = \" + str(preds[1]))"
   ]
  },
  {
   "cell_type": "markdown",
   "metadata": {},
   "source": [
    "If your `happyModel()` function worked, you should have observed much better than random-guessing (50%) accuracy on the train and test sets.\n",
    "\n",
    "To give you a point of comparison, our model gets around **95% test accuracy in 40 epochs** (and 99% train accuracy) with a mini batch size of 16 and \"adam\" optimizer. But our model gets decent accuracy after just 2-5 epochs, so if you're comparing different models you can also train a variety of models on just a few epochs and see how they compare. \n",
    "\n",
    "If you have not yet achieved a very good accuracy (let's say more than 80%), here're some things you can play around with to try to achieve it:\n",
    "\n",
    "- Try using blocks of CONV->BATCHNORM->RELU such as:\n",
    "```python\n",
    "X = Conv2D(32, (3, 3), strides = (1, 1), name = 'conv0')(X)\n",
    "X = BatchNormalization(axis = 3, name = 'bn0')(X)\n",
    "X = Activation('relu')(X)\n",
    "```\n",
    "until your height and width dimensions are quite low and your number of channels quite large (≈32 for example). You are encoding useful information in a volume with a lot of channels. You can then flatten the volume and use a fully-connected layer.\n",
    "- You can use MAXPOOL after such blocks. It will help you lower the dimension in height and width.\n",
    "- Change your optimizer. We find Adam works well. \n",
    "- If the model is struggling to run and you get memory issues, lower your batch_size (12 is usually a good compromise)\n",
    "- Run on more epochs, until you see the train accuracy plateauing. \n",
    "\n",
    "Even if you have achieved a good accuracy, please feel free to keep playing with your model to try to get even better results. \n",
    "\n",
    "**Note**: If you perform hyperparameter tuning on your model, the test set actually becomes a dev set, and your model might end up overfitting to the test (dev) set. But just for the purpose of this assignment, we won't worry about that here.\n"
   ]
  },
  {
   "cell_type": "markdown",
   "metadata": {},
   "source": [
    "## 3 - Conclusion\n",
    "\n",
    "Congratulations, you have solved the Happy House challenge! \n",
    "\n",
    "Now, you just need to link this model to the front-door camera of your house. We unfortunately won't go into the details of how to do that here. "
   ]
  },
  {
   "cell_type": "markdown",
   "metadata": {},
   "source": [
    "<font color='blue'>\n",
    "**What we would like you to remember from this assignment:**\n",
    "- Keras is a tool we recommend for rapid prototyping. It allows you to quickly try out different model architectures. Are there any applications of deep learning to your daily life that you'd like to implement using Keras? \n",
    "- Remember how to code a model in Keras and the four steps leading to the evaluation of your model on the test set. Create->Compile->Fit/Train->Evaluate/Test."
   ]
  },
  {
   "cell_type": "markdown",
   "metadata": {},
   "source": [
    "## 4 - Test with your own image (Optional)\n",
    "\n",
    "Congratulations on finishing this assignment. You can now take a picture of your face and see if you could enter the Happy House. To do that:\n",
    "    1. Click on \"File\" in the upper bar of this notebook, then click \"Open\" to go on your Coursera Hub.\n",
    "    2. Add your image to this Jupyter Notebook's directory, in the \"images\" folder\n",
    "    3. Write your image's name in the following code\n",
    "    4. Run the code and check if the algorithm is right (0 is unhappy, 1 is happy)!\n",
    "    \n",
    "The training/test sets were quite similar; for example, all the pictures were taken against the same background (since a front door camera is always mounted in the same position). This makes the problem easier, but a model trained on this data may or may not work on your own data. But feel free to give it a try! "
   ]
  },
  {
   "cell_type": "code",
   "execution_count": 8,
   "metadata": {},
   "outputs": [
    {
     "name": "stdout",
     "output_type": "stream",
     "text": [
      "1/1 [==============================] - 0s 109ms/step\n",
      "[[1.]]\n"
     ]
    },
    {
     "data": {
      "image/png": "[encoded data removed]",
      "text/plain": [
       "<Figure size 640x480 with 1 Axes>"
      ]
     },
     "metadata": {},
     "output_type": "display_data"
    }
   ],
   "source": [
    "import tensorflow as tf\n",
    "### START CODE HERE ###\n",
    "img_path = 'images/my_image.jpeg'\n",
    "### END CODE HERE ###\n",
    "img = tf.keras.utils.load_img(img_path, target_size=(64, 64))\n",
    "imshow(img)\n",
    "\n",
    "x = tf.keras.utils.img_to_array(img)\n",
    "x = np.expand_dims(x, axis=0)\n",
    "x = preprocess_input(x)\n",
    "\n",
    "print(happyModel.predict(x))"
   ]
  },
  {
   "cell_type": "markdown",
   "metadata": {},
   "source": [
    "## 5 - Other useful functions in Keras (Optional)\n",
    "\n",
    "Two other basic features of Keras that you'll find useful are:\n",
    "- `model.summary()`: prints the details of your layers in a table with the sizes of its inputs/outputs\n",
    "- `plot_model()`: plots your graph in a nice layout. You can even save it as \".png\" using SVG() if you'd like to share it on social media ;). It is saved in \"File\" then \"Open...\" in the upper bar of the notebook.\n",
    "\n",
    "Run the following code."
   ]
  },
  {
   "cell_type": "code",
   "execution_count": 9,
   "metadata": {
    "scrolled": false
   },
   "outputs": [
    {
     "name": "stdout",
     "output_type": "stream",
     "text": [
      "Model: \"HappyModel\"\n",
      "_________________________________________________________________\n",
      " Layer (type)                Output Shape              Param #   \n",
      "=================================================================\n",
      " input_1 (InputLayer)        [(None, 64, 64, 3)]       0         \n",
      "                                                                 \n",
      " zero_padding2d (ZeroPadding  (None, 70, 70, 3)        0         \n",
      " 2D)                                                             \n",
      "                                                                 \n",
      " conv0 (Conv2D)              (None, 64, 64, 32)        4736      \n",
      "                                                                 \n",
      " bn0 (BatchNormalization)    (None, 64, 64, 32)        128       \n",
      "                                                                 \n",
      " activation (Activation)     (None, 64, 64, 32)        0         \n",
      "                                                                 \n",
      " max_pool (MaxPooling2D)     (None, 32, 32, 32)        0         \n",
      "                                                                 \n",
      " flatten (Flatten)           (None, 32768)             0         \n",
      "                                                                 \n",
      " fc (Dense)                  (None, 1)                 32769     \n",
      "                                                                 \n",
      "=================================================================\n",
      "Total params: 37,633\n",
      "Trainable params: 37,569\n",
      "Non-trainable params: 64\n",
      "_________________________________________________________________\n"
     ]
    }
   ],
   "source": [
    "happyModel.summary()"
   ]
  },
  {
   "cell_type": "code",
   "execution_count": 10,
   "metadata": {},
   "outputs": [
    {
     "data": {
      "image/svg+xml": [
       "<svg xmlns=\"http://www.w3.org/2000/svg\" xmlns:xlink=\"http://www.w3.org/1999/xlink\" width=\"287pt\" height=\"741pt\" viewBox=\"0.00 0.00 215.00 556.00\">\n",
       "<g id=\"graph0\" class=\"graph\" transform=\"scale(0.75 0.75) rotate(0) translate(4 552)\">\n",
       "<title>G</title>\n",
       "<polygon fill=\"white\" stroke=\"transparent\" points=\"-4,4 -4,-552 211,-552 211,4 -4,4\"/>\n",
       "<!-- 140089373617888 -->\n",
       "<g id=\"node1\" class=\"node\">\n",
       "<title>140089373617888</title>\n",
       "<polygon fill=\"none\" stroke=\"black\" points=\"36,-511.5 36,-547.5 171,-547.5 171,-511.5 36,-511.5\"/>\n",
       "<text text-anchor=\"middle\" x=\"65\" y=\"-525.8\" font-family=\"Times,serif\" font-size=\"14.00\">input_1</text>\n",
       "<polyline fill=\"none\" stroke=\"black\" points=\"94,-511.5 94,-547.5 \"/>\n",
       "<text text-anchor=\"middle\" x=\"132.5\" y=\"-525.8\" font-family=\"Times,serif\" font-size=\"14.00\">InputLayer</text>\n",
       "</g>\n",
       "<!-- 140089370504544 -->\n",
       "<g id=\"node2\" class=\"node\">\n",
       "<title>140089370504544</title>\n",
       "<polygon fill=\"none\" stroke=\"black\" points=\"0,-438.5 0,-474.5 207,-474.5 207,-438.5 0,-438.5\"/>\n",
       "<text text-anchor=\"middle\" x=\"52\" y=\"-452.8\" font-family=\"Times,serif\" font-size=\"14.00\">zero_padding2d</text>\n",
       "<polyline fill=\"none\" stroke=\"black\" points=\"104,-438.5 104,-474.5 \"/>\n",
       "<text text-anchor=\"middle\" x=\"155.5\" y=\"-452.8\" font-family=\"Times,serif\" font-size=\"14.00\">ZeroPadding2D</text>\n",
       "</g>\n",
       "<!-- 140089373617888&#45;&gt;140089370504544 -->\n",
       "<g id=\"edge1\" class=\"edge\">\n",
       "<title>140089373617888-&gt;140089370504544</title>\n",
       "<path fill=\"none\" stroke=\"black\" d=\"M103.5,-511.31C103.5,-503.29 103.5,-493.55 103.5,-484.57\"/>\n",
       "<polygon fill=\"black\" stroke=\"black\" points=\"107,-484.53 103.5,-474.53 100,-484.53 107,-484.53\"/>\n",
       "</g>\n",
       "<!-- 140089369972944 -->\n",
       "<g id=\"node3\" class=\"node\">\n",
       "<title>140089369972944</title>\n",
       "<polygon fill=\"none\" stroke=\"black\" points=\"47.5,-365.5 47.5,-401.5 159.5,-401.5 159.5,-365.5 47.5,-365.5\"/>\n",
       "<text text-anchor=\"middle\" x=\"72.5\" y=\"-379.8\" font-family=\"Times,serif\" font-size=\"14.00\">conv0</text>\n",
       "<polyline fill=\"none\" stroke=\"black\" points=\"97.5,-365.5 97.5,-401.5 \"/>\n",
       "<text text-anchor=\"middle\" x=\"128.5\" y=\"-379.8\" font-family=\"Times,serif\" font-size=\"14.00\">Conv2D</text>\n",
       "</g>\n",
       "<!-- 140089370504544&#45;&gt;140089369972944 -->\n",
       "<g id=\"edge2\" class=\"edge\">\n",
       "<title>140089370504544-&gt;140089369972944</title>\n",
       "<path fill=\"none\" stroke=\"black\" d=\"M103.5,-438.31C103.5,-430.29 103.5,-420.55 103.5,-411.57\"/>\n",
       "<polygon fill=\"black\" stroke=\"black\" points=\"107,-411.53 103.5,-401.53 100,-411.53 107,-411.53\"/>\n",
       "</g>\n",
       "<!-- 140089369972896 -->\n",
       "<g id=\"node4\" class=\"node\">\n",
       "<title>140089369972896</title>\n",
       "<polygon fill=\"none\" stroke=\"black\" points=\"21.5,-292.5 21.5,-328.5 185.5,-328.5 185.5,-292.5 21.5,-292.5\"/>\n",
       "<text text-anchor=\"middle\" x=\"40\" y=\"-306.8\" font-family=\"Times,serif\" font-size=\"14.00\">bn0</text>\n",
       "<polyline fill=\"none\" stroke=\"black\" points=\"58.5,-292.5 58.5,-328.5 \"/>\n",
       "<text text-anchor=\"middle\" x=\"122\" y=\"-306.8\" font-family=\"Times,serif\" font-size=\"14.00\">BatchNormalization</text>\n",
       "</g>\n",
       "<!-- 140089369972944&#45;&gt;140089369972896 -->\n",
       "<g id=\"edge3\" class=\"edge\">\n",
       "<title>140089369972944-&gt;140089369972896</title>\n",
       "<path fill=\"none\" stroke=\"black\" d=\"M103.5,-365.31C103.5,-357.29 103.5,-347.55 103.5,-338.57\"/>\n",
       "<polygon fill=\"black\" stroke=\"black\" points=\"107,-338.53 103.5,-328.53 100,-338.53 107,-338.53\"/>\n",
       "</g>\n",
       "<!-- 140089369974528 -->\n",
       "<g id=\"node5\" class=\"node\">\n",
       "<title>140089369974528</title>\n",
       "<polygon fill=\"none\" stroke=\"black\" points=\"31.5,-219.5 31.5,-255.5 175.5,-255.5 175.5,-219.5 31.5,-219.5\"/>\n",
       "<text text-anchor=\"middle\" x=\"66.5\" y=\"-233.8\" font-family=\"Times,serif\" font-size=\"14.00\">activation</text>\n",
       "<polyline fill=\"none\" stroke=\"black\" points=\"101.5,-219.5 101.5,-255.5 \"/>\n",
       "<text text-anchor=\"middle\" x=\"138.5\" y=\"-233.8\" font-family=\"Times,serif\" font-size=\"14.00\">Activation</text>\n",
       "</g>\n",
       "<!-- 140089369972896&#45;&gt;140089369974528 -->\n",
       "<g id=\"edge4\" class=\"edge\">\n",
       "<title>140089369972896-&gt;140089369974528</title>\n",
       "<path fill=\"none\" stroke=\"black\" d=\"M103.5,-292.31C103.5,-284.29 103.5,-274.55 103.5,-265.57\"/>\n",
       "<polygon fill=\"black\" stroke=\"black\" points=\"107,-265.53 103.5,-255.53 100,-265.53 107,-265.53\"/>\n",
       "</g>\n",
       "<!-- 140089369796416 -->\n",
       "<g id=\"node6\" class=\"node\">\n",
       "<title>140089369796416</title>\n",
       "<polygon fill=\"none\" stroke=\"black\" points=\"17.5,-146.5 17.5,-182.5 189.5,-182.5 189.5,-146.5 17.5,-146.5\"/>\n",
       "<text text-anchor=\"middle\" x=\"53\" y=\"-160.8\" font-family=\"Times,serif\" font-size=\"14.00\">max_pool</text>\n",
       "<polyline fill=\"none\" stroke=\"black\" points=\"88.5,-146.5 88.5,-182.5 \"/>\n",
       "<text text-anchor=\"middle\" x=\"139\" y=\"-160.8\" font-family=\"Times,serif\" font-size=\"14.00\">MaxPooling2D</text>\n",
       "</g>\n",
       "<!-- 140089369974528&#45;&gt;140089369796416 -->\n",
       "<g id=\"edge5\" class=\"edge\">\n",
       "<title>140089369974528-&gt;140089369796416</title>\n",
       "<path fill=\"none\" stroke=\"black\" d=\"M103.5,-219.31C103.5,-211.29 103.5,-201.55 103.5,-192.57\"/>\n",
       "<polygon fill=\"black\" stroke=\"black\" points=\"107,-192.53 103.5,-182.53 100,-192.53 107,-192.53\"/>\n",
       "</g>\n",
       "<!-- 140089369795984 -->\n",
       "<g id=\"node7\" class=\"node\">\n",
       "<title>140089369795984</title>\n",
       "<polygon fill=\"none\" stroke=\"black\" points=\"51,-73.5 51,-109.5 156,-109.5 156,-73.5 51,-73.5\"/>\n",
       "<text text-anchor=\"middle\" x=\"76.5\" y=\"-87.8\" font-family=\"Times,serif\" font-size=\"14.00\">flatten</text>\n",
       "<polyline fill=\"none\" stroke=\"black\" points=\"102,-73.5 102,-109.5 \"/>\n",
       "<text text-anchor=\"middle\" x=\"129\" y=\"-87.8\" font-family=\"Times,serif\" font-size=\"14.00\">Flatten</text>\n",
       "</g>\n",
       "<!-- 140089369796416&#45;&gt;140089369795984 -->\n",
       "<g id=\"edge6\" class=\"edge\">\n",
       "<title>140089369796416-&gt;140089369795984</title>\n",
       "<path fill=\"none\" stroke=\"black\" d=\"M103.5,-146.31C103.5,-138.29 103.5,-128.55 103.5,-119.57\"/>\n",
       "<polygon fill=\"black\" stroke=\"black\" points=\"107,-119.53 103.5,-109.53 100,-119.53 107,-119.53\"/>\n",
       "</g>\n",
       "<!-- 140089364630640 -->\n",
       "<g id=\"node8\" class=\"node\">\n",
       "<title>140089364630640</title>\n",
       "<polygon fill=\"none\" stroke=\"black\" points=\"65,-0.5 65,-36.5 142,-36.5 142,-0.5 65,-0.5\"/>\n",
       "<text text-anchor=\"middle\" x=\"78.5\" y=\"-14.8\" font-family=\"Times,serif\" font-size=\"14.00\">fc</text>\n",
       "<polyline fill=\"none\" stroke=\"black\" points=\"92,-0.5 92,-36.5 \"/>\n",
       "<text text-anchor=\"middle\" x=\"117\" y=\"-14.8\" font-family=\"Times,serif\" font-size=\"14.00\">Dense</text>\n",
       "</g>\n",
       "<!-- 140089369795984&#45;&gt;140089364630640 -->\n",
       "<g id=\"edge7\" class=\"edge\">\n",
       "<title>140089369795984-&gt;140089364630640</title>\n",
       "<path fill=\"none\" stroke=\"black\" d=\"M103.5,-73.31C103.5,-65.29 103.5,-55.55 103.5,-46.57\"/>\n",
       "<polygon fill=\"black\" stroke=\"black\" points=\"107,-46.53 103.5,-36.53 100,-46.53 107,-46.53\"/>\n",
       "</g>\n",
       "</g>\n",
       "</svg>"
      ],
      "text/plain": [
       "<IPython.core.display.SVG object>"
      ]
     },
     "execution_count": 10,
     "metadata": {},
     "output_type": "execute_result"
    }
   ],
   "source": [
    "plot_model(happyModel, to_file='HappyModel.png')\n",
    "SVG(model_to_dot(happyModel).create(prog='dot', format='svg'))"
   ]
  },
  {
   "cell_type": "code",
   "execution_count": null,
   "metadata": {},
   "outputs": [],
   "source": []
  }
 ],
 "metadata": {
  "kernelspec": {
   "display_name": "Python4DL",
   "language": "python",
   "name": "python4dl"
  },
  "language_info": {
   "codemirror_mode": {
    "name": "ipython",
    "version": 3
   },
   "file_extension": ".py",
   "mimetype": "text/x-python",
   "name": "python",
   "nbconvert_exporter": "python",
   "pygments_lexer": "ipython3",
   "version": "3.8.10"
  }
 },
 "nbformat": 4,
 "nbformat_minor": 2
}
